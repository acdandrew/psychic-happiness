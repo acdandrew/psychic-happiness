{
 "cells": [
  {
   "cell_type": "code",
   "execution_count": 79,
   "metadata": {},
   "outputs": [],
   "source": [
    "import keras\n",
    "import sys\n",
    "sys.path.append('kernel')\n",
    "import DigitRecognizer; reload(DigitRecognizer)\n",
    "import numpy as np"
   ]
  },
  {
   "cell_type": "code",
   "execution_count": 20,
   "metadata": {},
   "outputs": [],
   "source": [
    "datapath='../data/mnist/'\n"
   ]
  },
  {
   "cell_type": "markdown",
   "metadata": {},
   "source": [
    "### Preprocessing"
   ]
  },
  {
   "cell_type": "code",
   "execution_count": 25,
   "metadata": {},
   "outputs": [],
   "source": [
    "#Take training.csv and create a validation.csv\n",
    "#this loses 2 training examples since I'm guessing due to non inclusivity of ranges\n",
    "import random\n",
    "f = open(datapath + 'train.csv', \"r\")\n",
    "v = open(datapath + 'validation.csv', \"w\")\n",
    "t = open(datapath + 'training.csv', \"w\")\n",
    "f.readline()\n",
    "lines = []\n",
    "for l in f:\n",
    "    lines.append(l)\n",
    "\n",
    "random.shuffle(lines)\n",
    "for l in lines[:len(lines)/10]:\n",
    "    v.write(l)\n",
    "for l in lines[len(lines)/10:]:\n",
    "    t.write(l)\n"
   ]
  },
  {
   "cell_type": "code",
   "execution_count": 55,
   "metadata": {},
   "outputs": [
    {
     "name": "stdout",
     "output_type": "stream",
     "text": [
      "(784, 785)\n"
     ]
    }
   ],
   "source": [
    "tr = open(datapath+'training.csv', \"r\")\n",
    "line = tr.readline()\n",
    "values = line.split(',')\n",
    "clss = values[0]\n",
    "pixels = values[1:]\n",
    "print(len(pixels), len(values))\n",
    "output = np.zeros((28,28))\n",
    "for i in range(0,28):\n",
    "    for j in range(0,28):\n",
    "        output[i,j] = pixels[(i * 28) + j]\n"
   ]
  },
  {
   "cell_type": "code",
   "execution_count": null,
   "metadata": {},
   "outputs": [],
   "source": []
  },
  {
   "cell_type": "markdown",
   "metadata": {},
   "source": [
    "### Get Batches\n"
   ]
  },
  {
   "cell_type": "code",
   "execution_count": 80,
   "metadata": {},
   "outputs": [
    {
     "name": "stdout",
     "output_type": "stream",
     "text": [
      "error bad data\n",
      "error bad data\n"
     ]
    }
   ],
   "source": [
    "#Get model and get batches as numpy array (28x28) pixels and labels (0..9)\n",
    "model = DigitRecognizer.DigitRecognizer()\n",
    "training_data,training_labels = model.get_training_data(datapath + 'training.csv')\n",
    "validation_batches = model.get_training_data(datapath + 'validation.csv')"
   ]
  },
  {
   "cell_type": "code",
   "execution_count": null,
   "metadata": {},
   "outputs": [],
   "source": []
  },
  {
   "cell_type": "markdown",
   "metadata": {},
   "source": [
    "### Train the model"
   ]
  },
  {
   "cell_type": "code",
   "execution_count": 17,
   "metadata": {},
   "outputs": [
    {
     "ename": "NameError",
     "evalue": "name 'model' is not defined",
     "output_type": "error",
     "traceback": [
      "\u001b[0;31m--------------------------\u001b[0m",
      "\u001b[0;31mNameError\u001b[0mTraceback (most recent call last)",
      "\u001b[0;32m<ipython-input-17-1a8f1885a7d9>\u001b[0m in \u001b[0;36m<module>\u001b[0;34m()\u001b[0m\n\u001b[0;32m----> 1\u001b[0;31m \u001b[0mmodel\u001b[0m\u001b[0;34m.\u001b[0m\u001b[0mfit\u001b[0m\u001b[0;34m(\u001b[0m\u001b[0mtraining_batches\u001b[0m\u001b[0;34m,\u001b[0m \u001b[0mlabel_batches\u001b[0m\u001b[0;34m,\u001b[0m \u001b[0mnb_epoch\u001b[0m\u001b[0;34m=\u001b[0m\u001b[0;36m1\u001b[0m\u001b[0;34m)\u001b[0m\u001b[0;34m\u001b[0m\u001b[0m\n\u001b[0m",
      "\u001b[0;31mNameError\u001b[0m: name 'model' is not defined"
     ]
    }
   ],
   "source": [
    "model.fit(training_batches, validation_batches, nb_epoch=1)"
   ]
  },
  {
   "cell_type": "markdown",
   "metadata": {},
   "source": [
    "### Predict results"
   ]
  },
  {
   "cell_type": "code",
   "execution_count": null,
   "metadata": {
    "collapsed": true
   },
   "outputs": [],
   "source": [
    "test_batches = model.get_test_batches(path + 'test.csv')\n",
    "model.predict(batches)"
   ]
  },
  {
   "cell_type": "markdown",
   "metadata": {},
   "source": []
  }
 ],
 "metadata": {
  "kernelspec": {
   "display_name": "Python 2",
   "language": "python",
   "name": "python2"
  },
  "language_info": {
   "codemirror_mode": {
    "name": "ipython",
    "version": 2
   },
   "file_extension": ".py",
   "mimetype": "text/x-python",
   "name": "python",
   "nbconvert_exporter": "python",
   "pygments_lexer": "ipython2",
   "version": "2.7.13"
  }
 },
 "nbformat": 4,
 "nbformat_minor": 2
}
